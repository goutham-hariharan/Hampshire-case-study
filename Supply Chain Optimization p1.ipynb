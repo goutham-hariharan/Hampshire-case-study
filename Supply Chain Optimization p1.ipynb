{
 "cells": [
  {
   "cell_type": "code",
   "execution_count": 52,
   "id": "11be8a04",
   "metadata": {},
   "outputs": [],
   "source": [
    "#this case study is a group submission by \n",
    "#pranav sankaran \n",
    "#goutham hariharan kumaran "
   ]
  },
  {
   "cell_type": "code",
   "execution_count": 1,
   "id": "8b8cded9",
   "metadata": {},
   "outputs": [],
   "source": [
    "#problem 1 \n",
    "leased_space_rent = 10.00 #per day \n",
    "cost = 0.20 #per paper \n",
    "#time interval 6:00 AM to 10:00 AM \n",
    "rental_news_stand = 30.00 #per day \n",
    "sell_price = 1.00 #per copy \n",
    "daily_mean = 500 \n",
    "daily_std_dev = 100\n",
    "salvage_value = 0.00 #worth zero dollars becuasse they were thrown out \n"
   ]
  },
  {
   "cell_type": "code",
   "execution_count": 2,
   "id": "e300dcb0",
   "metadata": {},
   "outputs": [
    {
     "data": {
      "text/html": [
       "<img src=\"proty.png\" width=\"1000\" height=\"1000\"/>"
      ],
      "text/plain": [
       "<IPython.core.display.Image object>"
      ]
     },
     "execution_count": 2,
     "metadata": {},
     "output_type": "execute_result"
    }
   ],
   "source": [
    "from IPython.display import Image\n",
    "Image(url= \"proty.png\", width=1000, height=1000)"
   ]
  },
  {
   "cell_type": "code",
   "execution_count": 3,
   "id": "6f2dcd96",
   "metadata": {},
   "outputs": [
    {
     "data": {
      "text/html": [
       "<img src=\"avgfillrate.png\" width=\"1000\" height=\"1000\"/>"
      ],
      "text/plain": [
       "<IPython.core.display.Image object>"
      ]
     },
     "execution_count": 3,
     "metadata": {},
     "output_type": "execute_result"
    }
   ],
   "source": [
    "from IPython.display import Image\n",
    "Image(url= \"avgfillrate.png\", width=1000, height=1000)"
   ]
  },
  {
   "cell_type": "code",
   "execution_count": 4,
   "id": "9d442b67",
   "metadata": {},
   "outputs": [
    {
     "name": "stdout",
     "output_type": "stream",
     "text": [
      "0.2\n",
      "0.8\n"
     ]
    }
   ],
   "source": [
    "overage_cost = cost-salvage_value\n",
    "print(overage_cost)\n",
    "underage_cost = sell_price-cost\n",
    "print(underage_cost)"
   ]
  },
  {
   "cell_type": "code",
   "execution_count": 5,
   "id": "9af35dba",
   "metadata": {},
   "outputs": [
    {
     "name": "stdout",
     "output_type": "stream",
     "text": [
      "0.8\n"
     ]
    }
   ],
   "source": [
    "F_q_star = underage_cost/(underage_cost+overage_cost)\n",
    "print(F_q_star)"
   ]
  },
  {
   "cell_type": "code",
   "execution_count": 6,
   "id": "207b6bfa",
   "metadata": {},
   "outputs": [],
   "source": [
    "z_val = 0.84"
   ]
  },
  {
   "cell_type": "code",
   "execution_count": 7,
   "id": "1b78a5ae",
   "metadata": {},
   "outputs": [
    {
     "name": "stdout",
     "output_type": "stream",
     "text": [
      "584\n"
     ]
    }
   ],
   "source": [
    "Q_star = (daily_std_dev*z_val) + daily_mean\n",
    "print(round(Q_star))"
   ]
  },
  {
   "cell_type": "code",
   "execution_count": 8,
   "id": "a418d56e",
   "metadata": {},
   "outputs": [
    {
     "data": {
      "text/html": [
       "<img src=\"pro.png\" width=\"400\" height=\"400\"/>"
      ],
      "text/plain": [
       "<IPython.core.display.Image object>"
      ]
     },
     "execution_count": 8,
     "metadata": {},
     "output_type": "execute_result"
    }
   ],
   "source": [
    "from IPython.display import Image\n",
    "Image(url= \"pro.png\", width=400, height=400)"
   ]
  },
  {
   "cell_type": "code",
   "execution_count": 9,
   "id": "eecf9acc",
   "metadata": {},
   "outputs": [],
   "source": [
    "#but we observe that the profits rise untill 584 news papers after that there is a drop in the profit margin \n",
    "#the above screenshot is to display the calculaions obtained from the excel sheet for part-a \n",
    "#the news vendor model was then applied ot verify for part-b and we can see that the numbers for ideal Q \n",
    "#match with each other \n"
   ]
  },
  {
   "cell_type": "code",
   "execution_count": 10,
   "id": "4a9b594b",
   "metadata": {},
   "outputs": [],
   "source": [
    "#problem-2\n",
    "oppurtunity_cost = 10 #per hour \n",
    "#part-a\n",
    "#based on the spreadsheet provided we simulate the values for hours spent from 1 -10 \n",
    "#the results are shown from the image below "
   ]
  },
  {
   "cell_type": "code",
   "execution_count": 11,
   "id": "7d68b5ea",
   "metadata": {},
   "outputs": [
    {
     "data": {
      "text/html": [
       "<img src=\"prob2parta.png\" width=\"400\" height=\"400\"/>"
      ],
      "text/plain": [
       "<IPython.core.display.Image object>"
      ]
     },
     "execution_count": 11,
     "metadata": {},
     "output_type": "execute_result"
    }
   ],
   "source": [
    "from IPython.display import Image\n",
    "Image(url= \"prob2parta.png\", width=400, height=400)"
   ]
  },
  {
   "cell_type": "code",
   "execution_count": 12,
   "id": "7458d0d3",
   "metadata": {},
   "outputs": [
    {
     "data": {
      "text/html": [
       "<img src=\"answer2a.png\" width=\"1000\" height=\"1000\"/>"
      ],
      "text/plain": [
       "<IPython.core.display.Image object>"
      ]
     },
     "execution_count": 12,
     "metadata": {},
     "output_type": "execute_result"
    }
   ],
   "source": [
    "\n",
    "from IPython.display import Image\n",
    "Image(url= \"answer2a.png\", width=1000, height=1000)"
   ]
  },
  {
   "cell_type": "code",
   "execution_count": 13,
   "id": "d59d2b4a",
   "metadata": {},
   "outputs": [],
   "source": [
    "#from the graph we can see that thhe peak value is at 4 this we can say H=4 is the optimised value \n",
    "#considering expected profit as a desired decision variable "
   ]
  },
  {
   "cell_type": "code",
   "execution_count": 14,
   "id": "f468dad9",
   "metadata": {},
   "outputs": [
    {
     "name": "stdout",
     "output_type": "stream",
     "text": [
      "4.0\n"
     ]
    }
   ],
   "source": [
    "#part-b\n",
    "#the calculation is done based on the formula suggested in the hint dialog box \n",
    "sheens_choice_of_effort_level = ((0.8*50)/(10*2))**2\n",
    "print(sheens_choice_of_effort_level)"
   ]
  },
  {
   "cell_type": "code",
   "execution_count": 15,
   "id": "9e038a5f",
   "metadata": {},
   "outputs": [],
   "source": [
    "#part-c \n",
    "#The optimal profit we got for Problem #1 was $331.678 at a stocking quantity of 584,\n",
    "#whereas for Problem #2 the optimal profit we got was $371.33 at a stocking quantity of 684. \n",
    "#We believe there was such a big difference between both problems because in this problem Sheen was able to \n",
    "#discover a co-relation between the demand anticipated and the number of hours dedicated to develop a section(front-page). \n",
    "#This allowed the demand to slowly increase and in turn increase the expected profit"
   ]
  },
  {
   "cell_type": "code",
   "execution_count": 16,
   "id": "26e3464d",
   "metadata": {
    "scrolled": false
   },
   "outputs": [
    {
     "data": {
      "text/html": [
       "<img src=\"raph.png\" width=\"1000\" height=\"1000\"/>"
      ],
      "text/plain": [
       "<IPython.core.display.Image object>"
      ]
     },
     "execution_count": 16,
     "metadata": {},
     "output_type": "execute_result"
    }
   ],
   "source": [
    "#business is now taken care by ralph \n",
    "h=4\n",
    "rental_fee = 30 #per day \n",
    "#part-a\n",
    "#identify the stocking qty that maximises profits from spreadsheet \n",
    "\n",
    "from IPython.display import Image\n",
    "Image(url= \"raph.png\", width=1000, height=1000)"
   ]
  },
  {
   "cell_type": "code",
   "execution_count": 17,
   "id": "93689cde",
   "metadata": {},
   "outputs": [],
   "source": [
    "#from this we can clearly infer that the ideal stocking qty that maximises \n",
    "#raphs profit is 516 units "
   ]
  },
  {
   "cell_type": "code",
   "execution_count": 18,
   "id": "64372ae5",
   "metadata": {},
   "outputs": [],
   "source": [
    "#part-b\n",
    "#The optimal stocking quantity differs in this scenario because \n",
    "#Anna no longer is associated to the copies being sold/unsold at the end of day . \n",
    "#Ralph is responsible for those copies and has to incur salvage losses if any . \n",
    "#Therefore, the critical ratio decreases from 0.80 to 0.20"
   ]
  },
  {
   "cell_type": "code",
   "execution_count": 19,
   "id": "79985277",
   "metadata": {},
   "outputs": [
    {
     "data": {
      "text/html": [
       "<img src=\"anna-profit.png\" width=\"500\" height=\"500\"/>"
      ],
      "text/plain": [
       "<IPython.core.display.Image object>"
      ]
     },
     "execution_count": 19,
     "metadata": {},
     "output_type": "execute_result"
    }
   ],
   "source": [
    "#part-c\n",
    "from IPython.display import Image\n",
    "Image(url= \"anna-profit.png\", width=500, height=500)"
   ]
  },
  {
   "cell_type": "code",
   "execution_count": 20,
   "id": "41c60bfc",
   "metadata": {},
   "outputs": [],
   "source": [
    "#from the above values we can see that decreasing the H-values increased the profits anna obtained \n",
    "#The optimal effort value does differ from question 2 because in this case she does notneed\n",
    "#spend more than 2 hours to maximise her revenue \n",
    "#this is because of her joint venture with ralph \n",
    "#the major disadvantage is the fact that she has to split her profit with ralph \n"
   ]
  },
  {
   "cell_type": "code",
   "execution_count": 21,
   "id": "de370ab0",
   "metadata": {},
   "outputs": [
    {
     "data": {
      "text/html": [
       "<img src=\"s1.png\" width=\"500\" height=\"500\"/>"
      ],
      "text/plain": [
       "<IPython.core.display.Image object>"
      ]
     },
     "execution_count": 21,
     "metadata": {},
     "output_type": "execute_result"
    }
   ],
   "source": [
    "#part-d \n",
    "from IPython.display import Image\n",
    "Image(url= \"s1.png\", width=500, height=500)"
   ]
  },
  {
   "cell_type": "code",
   "execution_count": 22,
   "id": "2332feaf",
   "metadata": {},
   "outputs": [
    {
     "data": {
      "text/html": [
       "<img src=\"s-2.png\" width=\"500\" height=\"500\"/>"
      ],
      "text/plain": [
       "<IPython.core.display.Image object>"
      ]
     },
     "execution_count": 22,
     "metadata": {},
     "output_type": "execute_result"
    }
   ],
   "source": [
    "from IPython.display import Image\n",
    "Image(url= \"s-2.png\", width=500, height=500)"
   ]
  },
  {
   "cell_type": "code",
   "execution_count": 23,
   "id": "97afddf4",
   "metadata": {},
   "outputs": [],
   "source": [
    "#increase the transfer price to 90 cents \n",
    "#Annas efforts increased to 3.06 hours \n",
    "#Ralphs stocking estimate reduced to 459 \n",
    "\n",
    "#on the other hand \n",
    "\n",
    "#decrease the transfer price to 70 cents \n",
    "#Annas efforts decreased to 1.56 hours \n",
    "#Ralphs stocking estimate increased to 510\n",
    "\n",
    "#In conclusion, Anna’s overall profit is directly correlated to the transfer price\n",
    "\n"
   ]
  },
  {
   "cell_type": "code",
   "execution_count": 24,
   "id": "e83dc299",
   "metadata": {},
   "outputs": [],
   "source": [
    "#part-e\n",
    "#to optimize profit there should be effective policies and agreements between manufacturers \n",
    "#and the whole-seller as well as clear transparency \n",
    "#and cooperation to build an effective supply chain network"
   ]
  },
  {
   "cell_type": "code",
   "execution_count": 25,
   "id": "36525d57",
   "metadata": {},
   "outputs": [
    {
     "data": {
      "text/html": [
       "<img src=\"profit-margin.png\" width=\"500\" height=\"500\"/>"
      ],
      "text/plain": [
       "<IPython.core.display.Image object>"
      ]
     },
     "execution_count": 25,
     "metadata": {},
     "output_type": "execute_result"
    }
   ],
   "source": [
    "from IPython.display import Image\n",
    "Image(url= \"profit-margin.png\", width=500, height=500)"
   ]
  },
  {
   "cell_type": "code",
   "execution_count": 26,
   "id": "42abb152",
   "metadata": {},
   "outputs": [
    {
     "data": {
      "text/html": [
       "<img src=\"power.png\" width=\"1000\" height=\"1000\"/>"
      ],
      "text/plain": [
       "<IPython.core.display.Image object>"
      ]
     },
     "execution_count": 26,
     "metadata": {},
     "output_type": "execute_result"
    }
   ],
   "source": [
    "from IPython.display import Image\n",
    "Image(url= \"power.png\", width=1000, height=1000)"
   ]
  },
  {
   "cell_type": "code",
   "execution_count": 27,
   "id": "793dffcf",
   "metadata": {},
   "outputs": [],
   "source": [
    "#problem 4 \n",
    "daily_demand = 500 \n",
    "std_dev = 100\n",
    "cp =0.8\n",
    "sp=1\n",
    "#ralphs private newspaper \n",
    "sp_private = 0.5\n",
    "cp_private = 0.10 \n"
   ]
  },
  {
   "cell_type": "code",
   "execution_count": 28,
   "id": "d2861794",
   "metadata": {},
   "outputs": [
    {
     "data": {
      "text/html": [
       "<img src=\"pa.png\" width=\"1000\" height=\"1000\"/>"
      ],
      "text/plain": [
       "<IPython.core.display.Image object>"
      ]
     },
     "execution_count": 28,
     "metadata": {},
     "output_type": "execute_result"
    }
   ],
   "source": [
    "#part-a \n",
    "#we need to determine the optimal stocking quantity of the Express magazine \n",
    "#ploting the profit vs quantity we get \n",
    "from IPython.display import Image\n",
    "Image(url= \"pa.png\", width=1000, height=1000)"
   ]
  },
  {
   "cell_type": "code",
   "execution_count": 29,
   "id": "8f0f77d8",
   "metadata": {},
   "outputs": [
    {
     "data": {
      "text/html": [
       "<img src=\"gr.png\" width=\"1000\" height=\"1000\"/>"
      ],
      "text/plain": [
       "<IPython.core.display.Image object>"
      ]
     },
     "execution_count": 29,
     "metadata": {},
     "output_type": "execute_result"
    }
   ],
   "source": [
    "from IPython.display import Image\n",
    "Image(url= \"gr.png\", width=1000, height=1000)"
   ]
  },
  {
   "cell_type": "code",
   "execution_count": 30,
   "id": "06a3be42",
   "metadata": {},
   "outputs": [],
   "source": [
    "#from the graph we can see that the optimal qty to order is 409\n",
    "#the main reason for a lower EOQ number is primarily due to the fact that the news stand has now an alternative "
   ]
  },
  {
   "cell_type": "code",
   "execution_count": 31,
   "id": "dadf7d4d",
   "metadata": {},
   "outputs": [],
   "source": [
    "#part-b \n",
    "#the main reason for the difference in EOQ between all the three problems is due to the change in underage costs \n",
    "#the first 2 problems dealt more with the relationshjip of profit and loss between ralph and sheen \n",
    "#the next problem introduced another element to the store and it faciliated to be understocked and still satisfy \n",
    "#a good chunk of the demand \n",
    "#in the case of the third problem the lower profit margin forced ralph to take a decision which involved lesser risk \n",
    "#due to which the order qty was low \n",
    "#in the 4th problem the second magazine introduced sells in lesser numbers but at the same time the overall goal \n",
    "#is to optimise the amount of profits obtained \n"
   ]
  },
  {
   "cell_type": "code",
   "execution_count": 32,
   "id": "5a810076",
   "metadata": {},
   "outputs": [
    {
     "name": "stdout",
     "output_type": "stream",
     "text": [
      "0.8300000000000001  $\n"
     ]
    }
   ],
   "source": [
    "#part-c\n",
    "daily_real_estate = 0.03 \n",
    "new_overage_cost = 0.8 + daily_real_estate\n",
    "print(new_overage_cost,' $')\n"
   ]
  },
  {
   "cell_type": "code",
   "execution_count": 33,
   "id": "819f78be",
   "metadata": {},
   "outputs": [],
   "source": [
    "#this leads to an imbalance in the critical-ratio thus a reduction in optimal stock qty"
   ]
  },
  {
   "cell_type": "code",
   "execution_count": 34,
   "id": "0082e3b2",
   "metadata": {},
   "outputs": [],
   "source": [
    "#problem-5 \n",
    "express_cp = 0.80 #per copy \n",
    "stock_newspaper = 491\n",
    "express_demand = 575 \n",
    "fill_rate = 0.85 \n"
   ]
  },
  {
   "cell_type": "code",
   "execution_count": null,
   "id": "bcd41251",
   "metadata": {},
   "outputs": [],
   "source": []
  },
  {
   "cell_type": "code",
   "execution_count": 36,
   "id": "e4c746d3",
   "metadata": {},
   "outputs": [
    {
     "data": {
      "text/html": [
       "<img src=\"buy.png\" width=\"1000\" height=\"1000\"/>"
      ],
      "text/plain": [
       "<IPython.core.display.Image object>"
      ]
     },
     "execution_count": 36,
     "metadata": {},
     "output_type": "execute_result"
    }
   ],
   "source": [
    "#part-a\n",
    "#buy-back price to maximise chanel profits \n",
    "from IPython.display import Image\n",
    "Image(url= \"buy.png\", width=1000, height=1000)"
   ]
  },
  {
   "cell_type": "code",
   "execution_count": 37,
   "id": "2db78262",
   "metadata": {},
   "outputs": [],
   "source": [
    "#from the above table we can see that the buy-back price that maximises channel profits is 75 cents \n",
    "#the stock under the desired buy back is 659 units \n"
   ]
  },
  {
   "cell_type": "code",
   "execution_count": 42,
   "id": "b86225f3",
   "metadata": {
    "scrolled": true
   },
   "outputs": [],
   "source": [
    "#part-b \n",
    "#combination of whole-saleand buy-back price that maximises the channel profits "
   ]
  },
  {
   "cell_type": "code",
   "execution_count": 43,
   "id": "f208ab7f",
   "metadata": {},
   "outputs": [
    {
     "data": {
      "text/html": [
       "<img src=\"buyback.png\" width=\"1000\" height=\"1000\"/>"
      ],
      "text/plain": [
       "<IPython.core.display.Image object>"
      ]
     },
     "execution_count": 43,
     "metadata": {},
     "output_type": "execute_result"
    }
   ],
   "source": [
    "from IPython.display import Image\n",
    "Image(url= \"buyback.png\", width=1000, height=1000)"
   ]
  },
  {
   "cell_type": "code",
   "execution_count": 45,
   "id": "31864efe",
   "metadata": {},
   "outputs": [],
   "source": [
    "#the optimal combination of buyback and transfer price is around 1.02$ and 1.025$ the vaue obtained here is more or less \n",
    "#similar to the value in problem 2 with a difference in margins by a dollar amount "
   ]
  },
  {
   "cell_type": "code",
   "execution_count": 46,
   "id": "eae99333",
   "metadata": {},
   "outputs": [],
   "source": [
    "#part-c \n",
    "#if there was a fee charged for the fanchise then it would not have any effect on the Cu and Co values \n",
    "#this means it does not have any major influence on the stocking decisions \n",
    "#if there was a franchise model in place then the qty of newspapers sold to Raph would not matter \n",
    "#because the source of profit is no more via prints \n",
    "#profits are now directly linked to the establishement of the brand/franchise "
   ]
  },
  {
   "cell_type": "code",
   "execution_count": 48,
   "id": "b24a3ac0",
   "metadata": {},
   "outputs": [
    {
     "name": "stdout",
     "output_type": "stream",
     "text": [
      "model in q2 makes more money per day by  39.329999999999984 $\n"
     ]
    }
   ],
   "source": [
    "#problem 6\n",
    "#part-a \n",
    "# the desired EOQ with the new proposed model is 600 \n",
    "# the profit is 332 $ \n",
    "# type 1 is 98.80 \n",
    "# type 2 is 84.00\n",
    "# let us analyse the difference between these values and the values estimated in problem 2\n",
    "profit_diff = 371.33-332\n",
    "print(\"model in q2 makes more money per day by \",profit_diff, \"$\")"
   ]
  },
  {
   "cell_type": "code",
   "execution_count": 49,
   "id": "96f0d4c4",
   "metadata": {},
   "outputs": [
    {
     "name": "stdout",
     "output_type": "stream",
     "text": [
      "both the models have 98 % type 1 service level \n"
     ]
    }
   ],
   "source": [
    "print(\"both the models have 98 % type 1 service level \")"
   ]
  },
  {
   "cell_type": "code",
   "execution_count": 50,
   "id": "c744e617",
   "metadata": {},
   "outputs": [
    {
     "name": "stdout",
     "output_type": "stream",
     "text": [
      "model in q2 holds more inventory by  85  Units\n"
     ]
    }
   ],
   "source": [
    "qty = 685-600\n",
    "print(\"model in q2 holds more inventory by \",qty,' Units')"
   ]
  },
  {
   "cell_type": "code",
   "execution_count": 51,
   "id": "700b4880",
   "metadata": {},
   "outputs": [],
   "source": [
    "#thus we can say they more or less have similar charectoristics "
   ]
  },
  {
   "cell_type": "code",
   "execution_count": null,
   "id": "241af723",
   "metadata": {},
   "outputs": [],
   "source": [
    "#part-b \n",
    "#potential drawbacks are \n",
    "# anna is now responsibe for choosing the right inventory qty which means she needs to analyse \n",
    "#market trends and devote significant time and effort which can intrun be implemented in developing more\n",
    "#quality content \n",
    "\n",
    "#anna now has to modify her model constantly to meet special customer demands on cetain days/weeks \n",
    "#this may be trigered by an event or a crime in the neighbourhood and using the right qty at the right time is\n",
    "#a challenge for anna who sits much higher in the supply link "
   ]
  }
 ],
 "metadata": {
  "kernelspec": {
   "display_name": "Python 3",
   "language": "python",
   "name": "python3"
  },
  "language_info": {
   "codemirror_mode": {
    "name": "ipython",
    "version": 3
   },
   "file_extension": ".py",
   "mimetype": "text/x-python",
   "name": "python",
   "nbconvert_exporter": "python",
   "pygments_lexer": "ipython3",
   "version": "3.8.8"
  }
 },
 "nbformat": 4,
 "nbformat_minor": 5
}
